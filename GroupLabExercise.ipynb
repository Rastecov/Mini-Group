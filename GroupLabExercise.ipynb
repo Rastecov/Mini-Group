{
 "cells": [
  {
   "cell_type": "code",
   "execution_count": 6,
   "id": "40d23515-ebd4-43ed-9d9e-d3f589020eb8",
   "metadata": {},
   "outputs": [
    {
     "name": "stdin",
     "output_type": "stream",
     "text": [
      "Enter the group members names Eraste, Emmanuel\n"
     ]
    }
   ],
   "source": [
    "groupName=[] \n",
    "groupName= input(prompt=\"Enter the group members names\")\n",
    "\n"
   ]
  },
  {
   "cell_type": "code",
   "execution_count": 7,
   "id": "ae596592-d5fc-4d63-a2b0-879d671e9553",
   "metadata": {},
   "outputs": [
    {
     "data": {
      "text/plain": [
       "'Eraste, Emmanuel'"
      ]
     },
     "execution_count": 7,
     "metadata": {},
     "output_type": "execute_result"
    }
   ],
   "source": [
    "groupName\n"
   ]
  },
  {
   "cell_type": "code",
   "execution_count": null,
   "id": "855aa8f6-8369-4182-a3a5-bd869587ef6d",
   "metadata": {},
   "outputs": [],
   "source": []
  }
 ],
 "metadata": {
  "kernelspec": {
   "display_name": "Python 3 (ipykernel)",
   "language": "python",
   "name": "python3"
  },
  "language_info": {
   "codemirror_mode": {
    "name": "ipython",
    "version": 3
   },
   "file_extension": ".py",
   "mimetype": "text/x-python",
   "name": "python",
   "nbconvert_exporter": "python",
   "pygments_lexer": "ipython3",
   "version": "3.11.5"
  }
 },
 "nbformat": 4,
 "nbformat_minor": 5
}
