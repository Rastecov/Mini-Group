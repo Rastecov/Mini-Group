{
 "cells": [
  {
   "cell_type": "code",
   "execution_count": 11,
   "id": "c1eaab40-34fd-4e7d-acf3-f7f2236b4e82",
   "metadata": {},
   "outputs": [
    {
     "name": "stdin",
     "output_type": "stream",
     "text": [
      "Enter the group members names:  huhju, gtt\n"
     ]
    },
    {
     "name": "stdout",
     "output_type": "stream",
     "text": [
      "The group members are: huhju, gtt\n"
     ]
    }
   ],
   "source": [
    "groupName= str (input(prompt=\"Enter the group members names: \"))\n",
    "print(\"The group members are: \" + groupName);\n",
    "\n",
    "\n",
    "\n",
    "\n",
    "\n"
   ]
  }
 ],
 "metadata": {
  "kernelspec": {
   "display_name": "Python 3 (ipykernel)",
   "language": "python",
   "name": "python3"
  },
  "language_info": {
   "codemirror_mode": {
    "name": "ipython",
    "version": 3
   },
   "file_extension": ".py",
   "mimetype": "text/x-python",
   "name": "python",
   "nbconvert_exporter": "python",
   "pygments_lexer": "ipython3",
   "version": "3.12.4"
  }
 },
 "nbformat": 4,
 "nbformat_minor": 5
}
